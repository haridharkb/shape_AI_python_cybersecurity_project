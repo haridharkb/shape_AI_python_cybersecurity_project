{
  "nbformat": 4,
  "nbformat_minor": 0,
  "metadata": {
    "colab": {
      "name": "weather_report.ipynb",
      "provenance": [],
      "collapsed_sections": []
    },
    "kernelspec": {
      "name": "python3",
      "display_name": "Python 3"
    },
    "language_info": {
      "name": "python"
    }
  },
  "cells": [
    {
      "cell_type": "code",
      "metadata": {
        "id": "2H46PlAEH3D1"
      },
      "source": [
        "import requests\n",
        "from datetime import datetime "
      ],
      "execution_count": 1,
      "outputs": []
    },
    {
      "cell_type": "code",
      "metadata": {
        "colab": {
          "base_uri": "https://localhost:8080/"
        },
        "id": "ceq5bxCRLxwO",
        "outputId": "383cd749-eba6-43ff-f076-fc33264ac58b"
      },
      "source": [
        "api_key = '1a4dd52fd896a9fdfd66ded5fa75a44b'\n",
        "location = input(\"Enter the city name: \")"
      ],
      "execution_count": 4,
      "outputs": [
        {
          "output_type": "stream",
          "text": [
            "Enter the city name: bangalore\n"
          ],
          "name": "stdout"
        }
      ]
    },
    {
      "cell_type": "code",
      "metadata": {
        "id": "a7vAHFIkMCw3"
      },
      "source": [
        "complete_api_link = \"https://api.openweathermap.org/data/2.5/weather?q=\"+location+\"&appid=\"+api_key\n",
        "api_link = requests.get(complete_api_link)\n",
        "api_data = api_link.json()"
      ],
      "execution_count": 6,
      "outputs": []
    },
    {
      "cell_type": "code",
      "metadata": {
        "id": "rtggStSdLrPA"
      },
      "source": [
        "temp_city = ((api_data['main']['temp'])-273.15)\n",
        "weather_desc = api_data['weather'][0]['description']\n",
        "hmdt = api_data['main']['humidity']\n",
        "wind_spd = api_data['wind']['speed']\n",
        "date_time = datetime.now().strftime(\"%d %b %Y | %I:%M:%S %p\")"
      ],
      "execution_count": 8,
      "outputs": []
    },
    {
      "cell_type": "code",
      "metadata": {
        "colab": {
          "base_uri": "https://localhost:8080/"
        },
        "id": "Fac9oAXwQOVf",
        "outputId": "49269b45-f4b4-4b85-86c8-9a8eeb456894"
      },
      "source": [
        "print(\"--------------------------------------------------------------------------------------\")\n",
        "print(\"weather stats for - {} || {}\".format(location.upper(),date_time))\n",
        "print(\"--------------------------------------------------------------------------------------\")"
      ],
      "execution_count": 9,
      "outputs": [
        {
          "output_type": "stream",
          "text": [
            "--------------------------------------------------------------------------------------\n",
            "weather stats for - BANGALORE || 22 Jun 2021 | 07:44:56 PM\n",
            "--------------------------------------------------------------------------------------\n"
          ],
          "name": "stdout"
        }
      ]
    },
    {
      "cell_type": "code",
      "metadata": {
        "colab": {
          "base_uri": "https://localhost:8080/"
        },
        "id": "NPx8PRjgQ5cA",
        "outputId": "7f0a0a02-917b-46bd-d4d9-a29d3c5a63ae"
      },
      "source": [
        "print(\"Current temperature is: {:.2f} deg C\".format(temp_city))\n",
        "print(\"Current weather desc  :\",weather_desc)\n",
        "print(\"Curent humidity       :\",hmdt, '%')\n",
        "print(\"Current wind speed    :\",wind_spd ,'kmph')"
      ],
      "execution_count": 10,
      "outputs": [
        {
          "output_type": "stream",
          "text": [
            "Current temperature is: 22.90 deg C\n",
            "Current weather desc  : overcast clouds\n",
            "Curent humidity       : 66 %\n",
            "Current wind speed    : 3.93 kmph\n"
          ],
          "name": "stdout"
        }
      ]
    }
  ]
}